{
 "cells": [
  {
   "cell_type": "code",
   "execution_count": 48,
   "id": "f36e8e76-b847-41b5-ba6c-925cbf463d18",
   "metadata": {},
   "outputs": [],
   "source": [
    "# Import LIbraries\n",
    "import numpy as np\n",
    "from scipy import stats"
   ]
  },
  {
   "cell_type": "code",
   "execution_count": 47,
   "id": "1ccc455c-a21d-4a65-94a5-6c8e15c12f04",
   "metadata": {},
   "outputs": [
    {
     "data": {
      "text/plain": [
       "array([25, 13,  6, 25, 21,  3, 30,  3, 10, 22, 10, 13, 16, 29, 22],\n",
       "      dtype=int32)"
      ]
     },
     "execution_count": 47,
     "metadata": {},
     "output_type": "execute_result"
    }
   ],
   "source": [
    "scores = np.random.randint(0, 40, size = 15)\n",
    "scores"
   ]
  },
  {
   "cell_type": "code",
   "execution_count": 46,
   "id": "c3e56f1b-1d9c-4522-a64a-25846e130ae2",
   "metadata": {},
   "outputs": [
    {
     "name": "stdout",
     "output_type": "stream",
     "text": [
      "Scores: [15 24 17 14  6 22 14 20 20 17  7 14 22 33 32]\n",
      "\n",
      "Number of elements: 15\n",
      "\n",
      "Shape: (15,)\n",
      "\n",
      "Data type: int32\n"
     ]
    }
   ],
   "source": [
    "# Basic Data Information\n",
    "print(\"Scores:\", scores)\n",
    "print(\"\\nNumber of elements:\", scores.size)\n",
    "print(\"\\nShape:\", scores.shape)\n",
    "print(\"\\nData type:\", scores.dtype)"
   ]
  },
  {
   "cell_type": "code",
   "execution_count": 45,
   "id": "609621ed-ef6b-4965-a6ae-3f3daacfb0ae",
   "metadata": {},
   "outputs": [
    {
     "name": "stdout",
     "output_type": "stream",
     "text": [
      "Mean: 18.47\n",
      "\n",
      "Median: 17.0\n",
      "\n",
      "Standard Deviation: 7.38\n",
      "\n",
      "Variance: 54.52\n",
      "\n",
      "Minimum Value: 6\n",
      "\n",
      "Maximum Value: 33\n",
      "\n",
      "25th Percentile: 14.00\n",
      "\n",
      "50th Percentile: 17.00\n",
      "\n",
      "75th Percentile: 22.00\n"
     ]
    }
   ],
   "source": [
    "# Basic Statistics\n",
    "print(\"Mean:\", round(np.mean(scores), 2))\n",
    "# Calculate Median\n",
    "print(\"\\nMedian:\", np.median(scores))\n",
    "# Calculate Standard Deviation\n",
    "print(\"\\nStandard Deviation:\", round(np.std(scores), 2))\n",
    "# Calculate Variance\n",
    "print(\"\\nVariance:\", round(np.var(scores), 2))\n",
    "# Calculate Minimum Value\n",
    "print(\"\\nMinimum Value:\", np.min(scores))\n",
    "# Calculate Maximum Value\n",
    "print(\"\\nMaximum Value:\", np.max(scores))\n",
    "\n",
    "# Percentiles: 25th, 50th (same as median), 75th, using f-string in 2dp\n",
    "print(f\"\\n25th Percentile: {np.percentile(scores, 25):.2f}\")\n",
    "print(f\"\\n50th Percentile: {np.percentile(scores, 50):.2f}\")\n",
    "print(f\"\\n75th Percentile: {np.percentile(scores, 75):.2f}\")\n"
   ]
  },
  {
   "cell_type": "code",
   "execution_count": 44,
   "id": "f459a5c6-c368-479c-ac43-ae158f4bfd03",
   "metadata": {},
   "outputs": [
    {
     "name": "stdout",
     "output_type": "stream",
     "text": [
      "Procede with analysis...\n"
     ]
    }
   ],
   "source": [
    "# Error Handling for empty Score List\n",
    "if scores.size == 0:\n",
    "    print('The score list is empty, please provide data')\n",
    "else:\n",
    "    print('Procede with analysis...')"
   ]
  },
  {
   "cell_type": "code",
   "execution_count": 49,
   "id": "4da832e7-5006-4797-b39d-4910993aa033",
   "metadata": {},
   "outputs": [],
   "source": [
    "# Function for User Input and Analysis\n",
    "def analyze_user_scores():\n",
    "    user_input = input(\"Enter a list of numbers seperated by a comma: \")\n",
    "    # Convert to a Numpy array of integers\n",
    "    try:\n",
    "        scores1 = np.array([int(num.strip()) for num in user_input.split(\",\")])\n",
    "        print(\"You entered:\", scores1)\n",
    "        # Display Statistics\n",
    "        print(f\"\\nMean: {np.mean(scores1):.2f}\")\n",
    "        print(f\"\\nMedian: {np.median(scores1):.2f}\")\n",
    "        \n",
    "        mode_result = stats.mode(scores, keepdims=True)\n",
    "        print(f\"\\nMode: {mode_result.mode[0]} (Count: {mode_result.count[0]})\")\n",
    "        \n",
    "        print(f\"\\nStandard Deviation: {np.std(scores1):.2f}\")\n",
    "        print(f\"\\nVariance: {np.var(scores1):.2f}\")\n",
    "        print(f\"\\n25th Percentile: {np.percentile(scores1, 25):.2f}\")\n",
    "        print(f\"\\n75th Percentile: {np.percentile(scores1, 75):.2f}\")\n",
    "    except ValueError:\n",
    "        print(\"Invalid input. Please enter only numbers seperated by commas.\")"
   ]
  },
  {
   "cell_type": "code",
   "execution_count": 51,
   "id": "6dc3e11b-2f6b-4989-9265-84fedf81d63e",
   "metadata": {},
   "outputs": [
    {
     "name": "stdin",
     "output_type": "stream",
     "text": [
      "Enter a list of numbers seperated by a comma:  10, 20, 22, 20, 34\n"
     ]
    },
    {
     "name": "stdout",
     "output_type": "stream",
     "text": [
      "You entered: [10 20 22 20 34]\n",
      "\n",
      "Mean: 21.20\n",
      "\n",
      "Median: 20.00\n",
      "\n",
      "Mode: 3 (Count: 2)\n",
      "\n",
      "Standard Deviation: 7.65\n",
      "\n",
      "Variance: 58.56\n",
      "\n",
      "25th Percentile: 20.00\n",
      "\n",
      "75th Percentile: 22.00\n"
     ]
    }
   ],
   "source": [
    "analyze_user_scores()"
   ]
  },
  {
   "cell_type": "code",
   "execution_count": null,
   "id": "2727d828-63a3-405c-880c-b6495128abbf",
   "metadata": {},
   "outputs": [],
   "source": []
  }
 ],
 "metadata": {
  "kernelspec": {
   "display_name": "Python 3 (ipykernel)",
   "language": "python",
   "name": "python3"
  },
  "language_info": {
   "codemirror_mode": {
    "name": "ipython",
    "version": 3
   },
   "file_extension": ".py",
   "mimetype": "text/x-python",
   "name": "python",
   "nbconvert_exporter": "python",
   "pygments_lexer": "ipython3",
   "version": "3.13.3"
  }
 },
 "nbformat": 4,
 "nbformat_minor": 5
}
